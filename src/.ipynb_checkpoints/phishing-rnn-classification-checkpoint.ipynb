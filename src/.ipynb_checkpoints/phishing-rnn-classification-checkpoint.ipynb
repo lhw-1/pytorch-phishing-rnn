{
 "cells": [
  {
   "cell_type": "markdown",
   "metadata": {},
   "source": [
    "# PyTorch: Classifying Phishing websites with an Atribute-Level RNN\n",
    "\n",
    "To detect whether a given URL has a high probability of being a Phishing Website, we make use of a Recurrent Neural Network (RNN) as an attribute-level classifier for Website URLs.\n",
    "\n",
    "The RNN will read each URL as a series of attributes, outputting a prediction and \"hidden state\" at each step, and feeds its previous hidden state into each next step. We will take the final prediction to be the output, i.e. which class the URL belongs to: Phishing Website, or Non-Phishing Website."
   ]
  },
  {
   "cell_type": "markdown",
   "metadata": {},
   "source": [
    "# Preparing the Data\n",
    "\n",
    "For this network, we used a CSV file containing the Phishing Website URLs that were split into attributes. The data can be downloaded separately at https://phishtank.com/. \n",
    "\n",
    "Specifically, we used 10,988 URLs from the PhishTank Database (As of March 31, 2022), confirmed to be either a Phishing Website URL or a Non-Phishing Website URL, in order to train our network."
   ]
  },
  {
   "cell_type": "code",
   "execution_count": 373,
   "metadata": {},
   "outputs": [],
   "source": [
    "import numpy as np\n",
    "import pandas as pd\n",
    "import torch\n",
    "import random\n",
    "\n",
    "# Use Pandas to read the CSV data file\n",
    "data_file = pd.read_csv('../data/data.csv')\n",
    "data = data_file.values.tolist()\n",
    "\n",
    "# Randomly shuffle the data\n",
    "random.shuffle(data)\n",
    "\n",
    "# Set class labels\n",
    "labels = [\"Non-Phishing Website\", \"Phishing Website\"]\n",
    "labels_tensor = torch.LongTensor([0,1])"
   ]
  },
  {
   "cell_type": "markdown",
   "metadata": {},
   "source": [
    "# Converting Data into Tensors\n",
    "\n",
    "We first split the data into Training Data and Test Data. We allocate 2000 of the examples to be Test Data.\n",
    "\n",
    "Then, we turn each of the obtained data and the corresponding labels into tensors. Hence, each URL will correspond to a single 1 x 16 Tensor, where 16 corresponds to the 16 attributes that each URL has.\n",
    "\n",
    "Each URL has a label of either 1 (Phishing Website) or 0 (Non-Phishing Website)."
   ]
  },
  {
   "cell_type": "code",
   "execution_count": 374,
   "metadata": {},
   "outputs": [
    {
     "name": "stdout",
     "output_type": "stream",
     "text": [
      "torch.Size([8988, 16])\n",
      "torch.Size([8988])\n",
      "torch.Size([2000, 16])\n",
      "torch.Size([2000])\n"
     ]
    }
   ],
   "source": [
    "# Set training data and test data sizes\n",
    "data_size = len(data)\n",
    "test_data_size = 2000\n",
    "training_data_size = data_size - test_data_size\n",
    "\n",
    "# Extract out training data and test data\n",
    "training_data_domain = []\n",
    "training_data = []\n",
    "training_label = []\n",
    "\n",
    "test_data_domain = []\n",
    "test_data = []\n",
    "test_label = []\n",
    "\n",
    "for i in range(training_data_size):\n",
    "    training_data_domain.append(data[i][0])\n",
    "    training_data.append(data[i][1:-1])\n",
    "    training_label.append(data[i][-1])\n",
    "\n",
    "for i in range(test_data_size):\n",
    "    test_data_domain.append(data[i+training_data_size][0])\n",
    "    test_data.append(data[i+training_data_size][1:-1])\n",
    "    test_label.append(data[i+training_data_size][-1])\n",
    "\n",
    "# Convert the data into PyTorch Tensors\n",
    "training_data = torch.Tensor(training_data)\n",
    "training_label = torch.Tensor(training_label)\n",
    "test_data = torch.Tensor(test_data)\n",
    "test_label = torch.Tensor(test_label)\n",
    "\n",
    "print(training_data.size())\n",
    "print(training_label.size())\n",
    "print(test_data.size())\n",
    "print(test_label.size())"
   ]
  },
  {
   "cell_type": "markdown",
   "metadata": {},
   "source": [
    "# Creating the Network\n",
    "\n",
    "This RNN has been largely taken from [the PyTorch for Torch users tutorial](https://github.com/pytorch/tutorials/blob/master/Introduction%20to%20PyTorch%20for%20former%20Torchies.ipynb). It is just 2 linear layers which operate on an input and hidden state, with a LogSoftmax layer after the output."
   ]
  },
  {
   "cell_type": "code",
   "execution_count": 375,
   "metadata": {},
   "outputs": [],
   "source": [
    "import torch.nn as nn\n",
    "from torch.autograd import Variable\n",
    "\n",
    "class RNN(nn.Module):\n",
    "    def __init__(self, input_size, hidden_size, output_size):\n",
    "        super(RNN, self).__init__()\n",
    "        \n",
    "        # Define the input, hidden, and output sizes of the network\n",
    "        self.input_size = input_size\n",
    "        self.hidden_size = hidden_size\n",
    "        self.output_size = output_size\n",
    "        \n",
    "        # Define the two linear layers, with Softmax as the non-linear layer\n",
    "        self.input_to_hidden_layer = nn.Linear(input_size + hidden_size, hidden_size)\n",
    "        self.input_to_output_layer = nn.Linear(input_size + hidden_size, output_size)\n",
    "        self.softmax = nn.LogSoftmax(dim = 1)\n",
    "    \n",
    "    def forward(self, input, hidden):\n",
    "        \n",
    "        # Resize the input into a 1 x 16 Tensor\n",
    "        resized_input = torch.unsqueeze(input, dim = 0)\n",
    "        \n",
    "        # Combine the input and the hidden layer into a single Tensor, for the training process\n",
    "        combined = torch.cat((resized_input, hidden), 1)\n",
    "        \n",
    "        # Run the Tensor through the network\n",
    "        hidden = self.input_to_hidden_layer(combined)\n",
    "        output = self.input_to_output_layer(combined)\n",
    "        output = self.softmax(output)\n",
    "        \n",
    "        # Return the results of the network\n",
    "        return output, hidden\n",
    "\n",
    "    def init_hidden(self):\n",
    "        return Variable(torch.zeros(1, self.hidden_size))"
   ]
  },
  {
   "cell_type": "markdown",
   "metadata": {},
   "source": [
    "## Manually testing the network\n",
    "\n",
    "With our custom `RNN` class defined, we can create a new instance:"
   ]
  },
  {
   "cell_type": "code",
   "execution_count": 376,
   "metadata": {
    "scrolled": true
   },
   "outputs": [],
   "source": [
    "num_of_attributes = 16\n",
    "hidden_size = 128\n",
    "num_of_labels = 2\n",
    "net = RNN(num_of_attributes, hidden_size, num_of_labels)"
   ]
  },
  {
   "cell_type": "markdown",
   "metadata": {},
   "source": [
    "To run a step of this network, we can pass in an input (in this case, the features for the first URL in our att_set) and a previous hidden state (Initialized as zeros at first). \n",
    "\n",
    "We will get back the output (probability of each label) and a next hidden state (which we keep for the next step)."
   ]
  },
  {
   "cell_type": "code",
   "execution_count": 377,
   "metadata": {},
   "outputs": [
    {
     "name": "stdout",
     "output_type": "stream",
     "text": [
      "output size = torch.Size([1, 2])\n",
      "tensor([[-0.4929, -0.9438]], grad_fn=<LogSoftmaxBackward>)\n"
     ]
    }
   ],
   "source": [
    "input = Variable(training_data[0])\n",
    "hidden = net.init_hidden()\n",
    "\n",
    "output, next_hidden = net(input, hidden)\n",
    "print('output size =', output.size())\n",
    "print(output)"
   ]
  },
  {
   "cell_type": "markdown",
   "metadata": {},
   "source": [
    "We then run another step of the network using the second set of attributes from our att_set."
   ]
  },
  {
   "cell_type": "code",
   "execution_count": 378,
   "metadata": {},
   "outputs": [
    {
     "name": "stdout",
     "output_type": "stream",
     "text": [
      "tensor([[-0.6206, -0.7714]], grad_fn=<LogSoftmaxBackward>)\n"
     ]
    }
   ],
   "source": [
    "input = Variable(training_data[1])\n",
    "hidden = Variable(torch.zeros(1, hidden_size))\n",
    "\n",
    "output, next_hidden = net(input, hidden)\n",
    "print(output)"
   ]
  },
  {
   "cell_type": "markdown",
   "metadata": {},
   "source": [
    "As you can see the output is a `<1 x num_of_labels>` Tensor, where every item is the likelihood of the label (higher is more likely)."
   ]
  },
  {
   "cell_type": "markdown",
   "metadata": {},
   "source": [
    "# Preparing for Training\n",
    "\n",
    "Before going into training we should make a few helper functions. The first is to interpret the output of the network, which we know to be a likelihood of each label. We can use `Tensor.topk` to get the index of the greatest value:"
   ]
  },
  {
   "cell_type": "code",
   "execution_count": 379,
   "metadata": {
    "scrolled": false
   },
   "outputs": [
    {
     "name": "stdout",
     "output_type": "stream",
     "text": [
      "Prediction: Non-Phishing Website\n"
     ]
    }
   ],
   "source": [
    "def category(output):\n",
    "    \n",
    "    # Tensor out of Variable with .data\n",
    "    top_n, top_i = output.data.topk(1)\n",
    "    category_i = top_i[0][0]\n",
    "    return \"Prediction: \" + labels[category_i]\n",
    "\n",
    "print(category(output))"
   ]
  },
  {
   "cell_type": "markdown",
   "metadata": {},
   "source": [
    "We will also want a quick way to get a training example (A set of attributes and its true label) from a given index."
   ]
  },
  {
   "cell_type": "code",
   "execution_count": 384,
   "metadata": {},
   "outputs": [
    {
     "name": "stdout",
     "output_type": "stream",
     "text": [
      "\n",
      "Attribute = [0.0, 0.0, 1.0, 3.0, 0.0, 0.0, 0.0, 0.0, 0.0, 1.0, 1.0, 0.0, 0.0, 0.0, 1.0, 0.0] \n",
      "Label = Non-Phishing Website \n",
      "\n",
      "\n",
      "Attribute = [0.0, 0.0, 1.0, 2.0, 0.0, 0.0, 0.0, 0.0, 0.0, 0.0, 0.0, 1.0, 0.0, 0.0, 1.0, 0.0] \n",
      "Label = Phishing Website \n",
      "\n",
      "\n",
      "Attribute = [0.0, 0.0, 1.0, 4.0, 0.0, 0.0, 0.0, 0.0, 0.0, 1.0, 0.0, 1.0, 0.0, 0.0, 1.0, 0.0] \n",
      "Label = Non-Phishing Website \n",
      "\n",
      "\n",
      "Attribute = [0.0, 0.0, 0.0, 0.0, 0.0, 0.0, 1.0, 0.0, 0.0, 1.0, 0.0, 1.0, 1.0, 0.0, 1.0, 0.0] \n",
      "Label = Phishing Website \n",
      "\n",
      "\n",
      "Attribute = [0.0, 0.0, 1.0, 2.0, 0.0, 0.0, 0.0, 0.0, 0.0, 1.0, 1.0, 1.0, 0.0, 0.0, 1.0, 0.0] \n",
      "Label = Phishing Website \n",
      "\n",
      "\n",
      "Attribute = [0.0, 0.0, 1.0, 4.0, 0.0, 0.0, 0.0, 0.0, 0.0, 1.0, 0.0, 1.0, 0.0, 0.0, 1.0, 0.0] \n",
      "Label = Non-Phishing Website \n",
      "\n",
      "\n",
      "Attribute = [0.0, 0.0, 0.0, 2.0, 0.0, 0.0, 0.0, 0.0, 0.0, 1.0, 0.0, 1.0, 0.0, 0.0, 1.0, 0.0] \n",
      "Label = Phishing Website \n",
      "\n",
      "\n",
      "Attribute = [0.0, 0.0, 0.0, 0.0, 0.0, 0.0, 0.0, 0.0, 0.0, 1.0, 0.0, 1.0, 0.0, 0.0, 1.0, 0.0] \n",
      "Label = Phishing Website \n",
      "\n",
      "\n",
      "Attribute = [0.0, 0.0, 0.0, 1.0, 0.0, 0.0, 0.0, 0.0, 0.0, 1.0, 1.0, 1.0, 0.0, 0.0, 1.0, 0.0] \n",
      "Label = Phishing Website \n",
      "\n",
      "\n",
      "Attribute = [0.0, 0.0, 1.0, 2.0, 0.0, 0.0, 0.0, 0.0, 0.0, 1.0, 1.0, 1.0, 0.0, 0.0, 1.0, 0.0] \n",
      "Label = Non-Phishing Website \n",
      "\n"
     ]
    }
   ],
   "source": [
    "def get_training_example(index, train=True):\n",
    "    \n",
    "    if (train):\n",
    "        # Use the random integer to select a particular training example\n",
    "        attribute_tensor = training_data[index]\n",
    "        attribute = attribute_tensor.tolist()\n",
    "        label_tensor = torch.LongTensor([training_label[index]])\n",
    "        label = int(label_tensor.item())\n",
    "    \n",
    "        # Return the Attribute, Label, and their corresponding Tensors\n",
    "        return attribute, label, attribute_tensor, label_tensor\n",
    "\n",
    "    else:\n",
    "        # Use the random integer to select a particular training example\n",
    "        attribute_tensor = test_data[index]\n",
    "        attribute = attribute_tensor.tolist()\n",
    "        label_tensor = test_label[index]\n",
    "        label = int(label_tensor.item())\n",
    "    \n",
    "        # Return the Attribute, Label, and their corresponding Tensors\n",
    "        return attribute, label, attribute_tensor, label_tensor\n",
    "    \n",
    "for i in range(10):\n",
    "    attribute, label, attribute_tensor, label_tensor = get_training_example(i)\n",
    "    print('\\nAttribute =', attribute, '\\nLabel =', labels[label], '\\n')"
   ]
  },
  {
   "cell_type": "markdown",
   "metadata": {},
   "source": [
    "We may also define a handy function to get the error of the network:"
   ]
  },
  {
   "cell_type": "code",
   "execution_count": 385,
   "metadata": {},
   "outputs": [],
   "source": [
    "def get_error(scores, labels):\n",
    "\n",
    "    batch_size = scores.size(0)\n",
    "    predicted_labels = scores.argmax(dim = 1)\n",
    "    indicator = (predicted_labels == labels)\n",
    "    num_of_matches = indicator.sum()\n",
    "    \n",
    "    return 1 - num_of_matches.float() / batch_size"
   ]
  },
  {
   "cell_type": "markdown",
   "metadata": {},
   "source": [
    "Finally, we may define a function to evaluate our network on the test set:"
   ]
  },
  {
   "cell_type": "code",
   "execution_count": 386,
   "metadata": {},
   "outputs": [],
   "source": [
    "def evaluate_on_test_data():\n",
    "\n",
    "    running_error = 0\n",
    "    num_batches = 0\n",
    "\n",
    "    for i in range(0, test_data_size):\n",
    "\n",
    "        attribute, label, attribute_tensor, label_tensor = get_training_example(shuffled_indices[i].item(), False)\n",
    "        \n",
    "        scores = net(attribute_tensor)\n",
    "        error = get_error(scores, labels_tensor)\n",
    "        running_error += error.item()\n",
    "        num_batches += 1\n",
    "\n",
    "    total_error = running_error / num_batches\n",
    "    print('test error =', total_error*100 ,'percent')"
   ]
  },
  {
   "cell_type": "markdown",
   "metadata": {},
   "source": [
    "# Training the Network\n",
    "\n",
    "Now all it takes to train this network is show it a bunch of examples, have it make guesses, and tell it if it's wrong.\n",
    "\n",
    "For the [loss function `nn.NLLLoss`](http://pytorch.org/docs/nn.html#nllloss) is appropriate, since the last layer of the RNN is `nn.LogSoftmax`.\n",
    "\n",
    "We will also use an initial Learning Rate of 0.05, but throughout the training process, we will continuously decrease the Learning Rate every 10 epochs. This will ensure a faster Gradient Descent in the beginning and a slower (and hence more accurate) Gradient Descent later on."
   ]
  },
  {
   "cell_type": "code",
   "execution_count": 387,
   "metadata": {},
   "outputs": [],
   "source": [
    "criterion = nn.CrossEntropyLoss()\n",
    "learning_rate = 0.05"
   ]
  },
  {
   "cell_type": "markdown",
   "metadata": {},
   "source": [
    "Each loop of training will:\n",
    "\n",
    "* Create input and target tensors\n",
    "* Create a zeroed initial hidden state\n",
    "* Read each set of attributes in and\n",
    "    * Keep hidden state for next set of attributes\n",
    "* Compare final output to target\n",
    "* Back-propagate\n",
    "* Return the output and loss\n",
    "\n",
    "Now we just have to run that with a bunch of examples. \n",
    "\n",
    "Since the `train` function returns both the output and loss, we can print its guesses and also keep track of loss for plotting. \n",
    "\n",
    "And since there are thousands of examples, we print only every batch, and take an average of the loss."
   ]
  },
  {
   "cell_type": "code",
   "execution_count": 393,
   "metadata": {
    "scrolled": false
   },
   "outputs": [
    {
     "ename": "RuntimeError",
     "evalue": "one of the variables needed for gradient computation has been modified by an inplace operation: [torch.FloatTensor [144, 128]], which is output 0 of TBackward, is at version 8; expected version 7 instead. Hint: the backtrace further above shows the operation that failed to compute its gradient. The variable in question was changed in there or anywhere later. Good luck!",
     "output_type": "error",
     "traceback": [
      "\u001b[0;31m---------------------------------------------------------------------------\u001b[0m",
      "\u001b[0;31mRuntimeError\u001b[0m                              Traceback (most recent call last)",
      "\u001b[0;32m/tmp/ipykernel_12946/2315894160.py\u001b[0m in \u001b[0;36m<module>\u001b[0;34m\u001b[0m\n\u001b[1;32m     38\u001b[0m \u001b[0;34m\u001b[0m\u001b[0m\n\u001b[1;32m     39\u001b[0m         \u001b[0mloss\u001b[0m \u001b[0;34m=\u001b[0m \u001b[0mcriterion\u001b[0m\u001b[0;34m(\u001b[0m\u001b[0moutput\u001b[0m\u001b[0;34m,\u001b[0m \u001b[0mlabel_tensor\u001b[0m\u001b[0;34m)\u001b[0m\u001b[0;34m\u001b[0m\u001b[0;34m\u001b[0m\u001b[0m\n\u001b[0;32m---> 40\u001b[0;31m         \u001b[0mloss\u001b[0m\u001b[0;34m.\u001b[0m\u001b[0mbackward\u001b[0m\u001b[0;34m(\u001b[0m\u001b[0;34m)\u001b[0m\u001b[0;34m\u001b[0m\u001b[0;34m\u001b[0m\u001b[0m\n\u001b[0m\u001b[1;32m     41\u001b[0m         \u001b[0moptimizer\u001b[0m\u001b[0;34m.\u001b[0m\u001b[0mstep\u001b[0m\u001b[0;34m(\u001b[0m\u001b[0;34m)\u001b[0m\u001b[0;34m\u001b[0m\u001b[0;34m\u001b[0m\u001b[0m\n\u001b[1;32m     42\u001b[0m \u001b[0;34m\u001b[0m\u001b[0m\n",
      "\u001b[0;32m~/miniconda3/envs/phishing_rnn/lib/python3.7/site-packages/torch/_tensor.py\u001b[0m in \u001b[0;36mbackward\u001b[0;34m(self, gradient, retain_graph, create_graph, inputs)\u001b[0m\n\u001b[1;32m    253\u001b[0m                 \u001b[0mcreate_graph\u001b[0m\u001b[0;34m=\u001b[0m\u001b[0mcreate_graph\u001b[0m\u001b[0;34m,\u001b[0m\u001b[0;34m\u001b[0m\u001b[0;34m\u001b[0m\u001b[0m\n\u001b[1;32m    254\u001b[0m                 inputs=inputs)\n\u001b[0;32m--> 255\u001b[0;31m         \u001b[0mtorch\u001b[0m\u001b[0;34m.\u001b[0m\u001b[0mautograd\u001b[0m\u001b[0;34m.\u001b[0m\u001b[0mbackward\u001b[0m\u001b[0;34m(\u001b[0m\u001b[0mself\u001b[0m\u001b[0;34m,\u001b[0m \u001b[0mgradient\u001b[0m\u001b[0;34m,\u001b[0m \u001b[0mretain_graph\u001b[0m\u001b[0;34m,\u001b[0m \u001b[0mcreate_graph\u001b[0m\u001b[0;34m,\u001b[0m \u001b[0minputs\u001b[0m\u001b[0;34m=\u001b[0m\u001b[0minputs\u001b[0m\u001b[0;34m)\u001b[0m\u001b[0;34m\u001b[0m\u001b[0;34m\u001b[0m\u001b[0m\n\u001b[0m\u001b[1;32m    256\u001b[0m \u001b[0;34m\u001b[0m\u001b[0m\n\u001b[1;32m    257\u001b[0m     \u001b[0;32mdef\u001b[0m \u001b[0mregister_hook\u001b[0m\u001b[0;34m(\u001b[0m\u001b[0mself\u001b[0m\u001b[0;34m,\u001b[0m \u001b[0mhook\u001b[0m\u001b[0;34m)\u001b[0m\u001b[0;34m:\u001b[0m\u001b[0;34m\u001b[0m\u001b[0;34m\u001b[0m\u001b[0m\n",
      "\u001b[0;32m~/miniconda3/envs/phishing_rnn/lib/python3.7/site-packages/torch/autograd/__init__.py\u001b[0m in \u001b[0;36mbackward\u001b[0;34m(tensors, grad_tensors, retain_graph, create_graph, grad_variables, inputs)\u001b[0m\n\u001b[1;32m    147\u001b[0m     Variable._execution_engine.run_backward(\n\u001b[1;32m    148\u001b[0m         \u001b[0mtensors\u001b[0m\u001b[0;34m,\u001b[0m \u001b[0mgrad_tensors_\u001b[0m\u001b[0;34m,\u001b[0m \u001b[0mretain_graph\u001b[0m\u001b[0;34m,\u001b[0m \u001b[0mcreate_graph\u001b[0m\u001b[0;34m,\u001b[0m \u001b[0minputs\u001b[0m\u001b[0;34m,\u001b[0m\u001b[0;34m\u001b[0m\u001b[0;34m\u001b[0m\u001b[0m\n\u001b[0;32m--> 149\u001b[0;31m         allow_unreachable=True, accumulate_grad=True)  # allow_unreachable flag\n\u001b[0m\u001b[1;32m    150\u001b[0m \u001b[0;34m\u001b[0m\u001b[0m\n\u001b[1;32m    151\u001b[0m \u001b[0;34m\u001b[0m\u001b[0m\n",
      "\u001b[0;31mRuntimeError\u001b[0m: one of the variables needed for gradient computation has been modified by an inplace operation: [torch.FloatTensor [144, 128]], which is output 0 of TBackward, is at version 8; expected version 7 instead. Hint: the backtrace further above shows the operation that failed to compute its gradient. The variable in question was changed in there or anywhere later. Good luck!"
     ]
    }
   ],
   "source": [
    "import time\n",
    "import math\n",
    "\n",
    "num_of_epochs = 100\n",
    "\n",
    "# Keep track of losses for plotting\n",
    "current_loss = 0\n",
    "all_losses = []\n",
    "\n",
    "start = time.time()\n",
    "\n",
    "# Start the training process\n",
    "for epoch in range(num_of_epochs):\n",
    "    \n",
    "    # Learning rate strategy: divide the learning rate by 1.5 every 10 epochs\n",
    "    if epoch % 10 == 0 and epoch > 10: \n",
    "        learning_rate = learning_rate / 1.5\n",
    "    \n",
    "    # create a new optimizer at the beginning of each epoch: give the current learning rate.  \n",
    "    optimizer = torch.optim.SGD(net.parameters(), lr = learning_rate)\n",
    "    \n",
    "    running_loss = 0\n",
    "    running_error = 0\n",
    "    num_batches = 0\n",
    "    \n",
    "    shuffled_indices = torch.randperm(training_data_size)\n",
    "    hidden = net.init_hidden()\n",
    "    \n",
    "    for count in range(0, training_data_size):\n",
    "        \n",
    "        # Forward and Backward Passes\n",
    "    \n",
    "        optimizer.zero_grad()\n",
    "        \n",
    "        attribute, label, attribute_tensor, label_tensor = get_training_example(shuffled_indices[i].item(), True)\n",
    "        attribute_tensor.requires_grad_()   \n",
    "        output, hidden = net(attribute_tensor, hidden)\n",
    "        \n",
    "        loss = criterion(output, label_tensor)\n",
    "        loss.backward()\n",
    "        optimizer.step()\n",
    "        \n",
    "        # Compute some stats\n",
    "        \n",
    "        running_loss += loss.detach().item()\n",
    "               \n",
    "        error = get_error(output.detach(), label_tensor)\n",
    "        running_error += error.item()\n",
    "        \n",
    "        num_batches += 1\n",
    "    \n",
    "    # Once the epoch is finished, we divide the \"running quantities\" by the number of batches\n",
    "    total_loss = running_loss / num_batches\n",
    "    total_error = running_error / num_batches\n",
    "    elapsed_time = time.time() - start\n",
    "    \n",
    "    # Every 10 epoch, we display the stats and compute the error rate on the test set  \n",
    "    if epoch % 10 == 0 : \n",
    "    \n",
    "        print(' ')\n",
    "        print('epoch=',epoch, '\\ntime=', elapsed_time, '\\nloss=', total_loss , '\\nerror=', total_error*100 ,'\\nLearning Rate =', learning_rate)\n",
    "        print(' ')\n",
    "        \n",
    "        evaluate_on_test_data()"
   ]
  },
  {
   "cell_type": "markdown",
   "metadata": {},
   "source": [
    "# Plotting the Results\n",
    "\n",
    "Plotting the historical loss from `all_losses` shows the network learning:"
   ]
  },
  {
   "cell_type": "code",
   "execution_count": 18,
   "metadata": {},
   "outputs": [
    {
     "data": {
      "text/plain": [
       "[<matplotlib.lines.Line2D at 0x7f636b9d1970>]"
      ]
     },
     "execution_count": 18,
     "metadata": {},
     "output_type": "execute_result"
    },
    {
     "data": {
      "image/png": "[encoded data removed]",
      "text/plain": [
       "<Figure size 432x288 with 1 Axes>"
      ]
     },
     "metadata": {
      "needs_background": "light"
     },
     "output_type": "display_data"
    }
   ],
   "source": [
    "# import matplotlib.pyplot as plt\n",
    "# import matplotlib.ticker as ticker\n",
    "# %matplotlib inline\n",
    "\n",
    "# plt.figure()\n",
    "# plt.plot(all_losses)"
   ]
  },
  {
   "cell_type": "markdown",
   "metadata": {},
   "source": [
    "# Evaluating the Results\n",
    "\n",
    "To see how well the network performs on different categories, we will create a confusion matrix, indicating for every actual language (rows) which language the network guesses (columns). To calculate the confusion matrix a bunch of samples are run through the network with `evaluate()`, which is the same as `train()` minus the backprop."
   ]
  },
  {
   "cell_type": "code",
   "execution_count": 19,
   "metadata": {
    "scrolled": false
   },
   "outputs": [
    {
     "name": "stderr",
     "output_type": "stream",
     "text": [
      "/tmp/ipykernel_4310/3642150636.py:20: UserWarning: Implicit dimension choice for log_softmax has been deprecated. Change the call to include dim=X as an argument.\n",
      "  output = self.softmax(output)\n",
      "/tmp/ipykernel_4310/828585331.py:33: UserWarning: FixedFormatter should only be used together with FixedLocator\n",
      "  ax.set_xticklabels([''] + all_categories, rotation=90)\n",
      "/tmp/ipykernel_4310/828585331.py:34: UserWarning: FixedFormatter should only be used together with FixedLocator\n",
      "  ax.set_yticklabels([''] + all_categories)\n"
     ]
    },
    {
     "data": {
      "image/png": "[encoded data removed]",
      "text/plain": [
       "<Figure size 432x288 with 2 Axes>"
      ]
     },
     "metadata": {
      "needs_background": "light"
     },
     "output_type": "display_data"
    }
   ],
   "source": [
    "# # Keep track of correct guesses in a confusion matrix\n",
    "# confusion = torch.zeros(n_categories, n_categories)\n",
    "# n_confusion = 10000\n",
    "\n",
    "# # Just return an output given a line\n",
    "# def evaluate(line_tensor):\n",
    "#     hidden = rnn.init_hidden()\n",
    "    \n",
    "#     for i in range(line_tensor.size()[0]):\n",
    "#         output, hidden = rnn(line_tensor[i], hidden)\n",
    "    \n",
    "#     return output\n",
    "\n",
    "# # Go through a bunch of examples and record which are correctly guessed\n",
    "# for i in range(n_confusion):\n",
    "#     category, line, category_tensor, line_tensor = random_training_pair()\n",
    "#     output = evaluate(line_tensor)\n",
    "#     guess, guess_i = category_from_output(output)\n",
    "#     category_i = all_categories.index(category)\n",
    "#     confusion[category_i][guess_i] += 1\n",
    "\n",
    "# # Normalize by dividing every row by its sum\n",
    "# for i in range(n_categories):\n",
    "#     confusion[i] = confusion[i] / confusion[i].sum()\n",
    "\n",
    "# # Set up plot\n",
    "# fig = plt.figure()\n",
    "# ax = fig.add_subplot(111)\n",
    "# cax = ax.matshow(confusion.numpy())\n",
    "# fig.colorbar(cax)\n",
    "\n",
    "# # Set up axes\n",
    "# ax.set_xticklabels([''] + all_categories, rotation=90)\n",
    "# ax.set_yticklabels([''] + all_categories)\n",
    "\n",
    "# # Force label at every tick\n",
    "# ax.xaxis.set_major_locator(ticker.MultipleLocator(1))\n",
    "# ax.yaxis.set_major_locator(ticker.MultipleLocator(1))\n",
    "\n",
    "# plt.show()"
   ]
  },
  {
   "cell_type": "markdown",
   "metadata": {},
   "source": [
    "You can pick out bright spots off the main axis that show which languages it guesses incorrectly, e.g. Chinese for Korean, and Spanish for Italian. It seems to do very well with Greek, and very poorly with English (perhaps because of overlap with other languages)."
   ]
  },
  {
   "cell_type": "markdown",
   "metadata": {},
   "source": [
    "# Running on User Input"
   ]
  },
  {
   "cell_type": "code",
   "execution_count": 20,
   "metadata": {},
   "outputs": [
    {
     "name": "stdout",
     "output_type": "stream",
     "text": [
      "\n",
      "> Aaron\n",
      "(-2.78) Japanese\n",
      "(-2.79) German\n",
      "(-2.82) Korean\n",
      "\n",
      "> Jackson\n",
      "(-2.78) German\n",
      "(-2.79) Japanese\n",
      "(-2.82) Italian\n",
      "\n",
      "> Satoshi\n",
      "(-2.72) Korean\n",
      "(-2.79) Russian\n",
      "(-2.81) German\n"
     ]
    },
    {
     "name": "stderr",
     "output_type": "stream",
     "text": [
      "/tmp/ipykernel_4310/3642150636.py:20: UserWarning: Implicit dimension choice for log_softmax has been deprecated. Change the call to include dim=X as an argument.\n",
      "  output = self.softmax(output)\n"
     ]
    }
   ],
   "source": [
    "# def predict(input_line, n_predictions=3):\n",
    "#     print('\\n> %s' % input_line)\n",
    "#     output = evaluate(Variable(line_to_tensor(input_line)))\n",
    "\n",
    "#     # Get top N categories\n",
    "#     topv, topi = output.data.topk(n_predictions, 1, True)\n",
    "#     predictions = []\n",
    "\n",
    "#     for i in range(n_predictions):\n",
    "#         value = topv[0][i]\n",
    "#         category_index = topi[0][i]\n",
    "#         print('(%.2f) %s' % (value, all_categories[category_index]))\n",
    "#         predictions.append([value, all_categories[category_index]])\n",
    "\n",
    "# predict('Aaron')\n",
    "# predict('Jackson')\n",
    "# predict('Satoshi')"
   ]
  },
  {
   "cell_type": "markdown",
   "metadata": {},
   "source": [
    "The final versions of the scripts [in the Practical PyTorch repo](https://github.com/spro/practical-pytorch/tree/master/char-rnn-classification) split the above code into a few files:\n",
    "\n",
    "* `data.py` (loads files)\n",
    "* `model.py` (defines the RNN)\n",
    "* `train.py` (runs training)\n",
    "* `predict.py` (runs `predict()` with command line arguments)\n",
    "* `server.py` (serve prediction as a JSON API with bottle.py)\n",
    "\n",
    "Run `train.py` to train and save the network.\n",
    "\n",
    "Run `predict.py` with a name to view predictions: \n",
    "\n",
    "```\n",
    "$ python predict.py Hazaki\n",
    "(-0.42) Japanese\n",
    "(-1.39) Polish\n",
    "(-3.51) Czech\n",
    "```\n",
    "\n",
    "Run `server.py` and visit http://localhost:5533/Yourname to get JSON output of predictions."
   ]
  },
  {
   "cell_type": "markdown",
   "metadata": {},
   "source": [
    "# Exercises\n",
    "\n",
    "* Try with a different dataset of line -> category, for example:\n",
    "    * Any word -> language\n",
    "    * First name -> gender\n",
    "    * Character name -> writer\n",
    "    * Page title -> blog or subreddit\n",
    "* Get better results with a bigger and/or better shaped network\n",
    "    * Add more linear layers\n",
    "    * Try the `nn.LSTM` and `nn.GRU` layers\n",
    "    * Combine multiple of these RNNs as a higher level network"
   ]
  },
  {
   "cell_type": "markdown",
   "metadata": {},
   "source": [
    "**Next**: [Generating Shakespeare with a Character-Level RNN](https://github.com/spro/practical-pytorch/blob/master/char-rnn-generation/char-rnn-generation.ipynb)"
   ]
  }
 ],
 "metadata": {
  "anaconda-cloud": {},
  "celltoolbar": "Raw Cell Format",
  "interpreter": {
   "hash": "916dbcbb3f70747c44a77c7bcd40155683ae19c65e1c03b4aa3499c5328201f1"
  },
  "kernelspec": {
   "display_name": "Python 3 (ipykernel)",
   "language": "python",
   "name": "python3"
  },
  "language_info": {
   "codemirror_mode": {
    "name": "ipython",
    "version": 3
   },
   "file_extension": ".py",
   "mimetype": "text/x-python",
   "name": "python",
   "nbconvert_exporter": "python",
   "pygments_lexer": "ipython3",
   "version": "3.7.10"
  }
 },
 "nbformat": 4,
 "nbformat_minor": 1
}
